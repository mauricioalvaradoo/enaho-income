{
 "cells": [
  {
   "cell_type": "markdown",
   "id": "3f00c15b-e17d-40c7-ba9d-5f1652008367",
   "metadata": {},
   "source": [
    "## Determinantes de los ingresos con la ENAHO-INEI (en PROCESO)\n",
    "\n",
    "Este trabajo servirá como un breve análisis de los determinantes de los ingresos familiares de las familias peruanos, en base a la ENAHO del 2019, previo a la pandemia. Se hará uso de la librería `sklearn` para la realización de las regresiones lineales"
   ]
  },
  {
   "cell_type": "code",
   "execution_count": 1,
   "id": "e19e7b5d-ec4c-4161-a45f-40728dacaf16",
   "metadata": {},
   "outputs": [],
   "source": [
    "import pandas as pd\n",
    "import numpy as np\n",
    "import matplotlib.pyplot as plt\n",
    "import seaborn as sns\n",
    "\n",
    "from sklearn.linear_model import LinearRegression\n",
    "from sklearn.metrics import r2_score\n",
    "\n",
    "from zipfile import ZipFile\n",
    "from urllib.request import urlretrieve"
   ]
  },
  {
   "cell_type": "markdown",
   "id": "299136e7-ff2e-4e0c-8ec7-04a5acff5e48",
   "metadata": {},
   "source": [
    "Se importará los zips de tres módulos de la ENAHO. El módulo 03 contiene información acerca de educación, el 05 contiene de empleo e ingresos y el módulo 34 es la sumaria"
   ]
  },
  {
   "cell_type": "code",
   "execution_count": 2,
   "id": "e3e9b94b-0cac-4af4-84cb-1e95148724d1",
   "metadata": {},
   "outputs": [
    {
     "data": {
      "text/plain": [
       "('./data/687-Modulo34.zip', <http.client.HTTPMessage at 0x1f83fc7d6d0>)"
      ]
     },
     "execution_count": 2,
     "metadata": {},
     "output_type": "execute_result"
    }
   ],
   "source": [
    "urlretrieve(\"http://iinei.inei.gob.pe/iinei/srienaho/descarga/STATA/687-Modulo03.zip\", \"./data/687-Modulo03.zip\")\n",
    "urlretrieve(\"http://iinei.inei.gob.pe/iinei/srienaho/descarga/STATA/687-Modulo05.zip\", \"./data/687-Modulo05.zip\")\n",
    "urlretrieve(\"http://iinei.inei.gob.pe/iinei/srienaho/descarga/STATA/687-Modulo34.zip\", \"./data/687-Modulo34.zip\")"
   ]
  },
  {
   "cell_type": "markdown",
   "id": "bae90c2a-70fd-4faa-88fd-d89c1f2054c2",
   "metadata": {},
   "source": [
    "Se define las variables que se van a extraer de cada una de las bases de datos"
   ]
  },
  {
   "cell_type": "code",
   "execution_count": 3,
   "id": "705e21ea-fd95-4584-b993-c38154ce901a",
   "metadata": {},
   "outputs": [],
   "source": [
    "var_empleo = {\"ubigeo\": \"ubigeo\", #Area urbana/rural\n",
    "              \"conglome\": \"conglome\",\n",
    "              \"vivienda\": \"vivienda\",\n",
    "              \"hogar\": \"hogar\",\n",
    "              \"codperso\": \"codperso\",\n",
    "              \"p501\": \"empleado\",\n",
    "              \"p207\": \"sexo\",\n",
    "              \"p208a\": \"edad\", #Edad al cuadrado\n",
    "              \"ocu500\": \"pea_ocup\",\n",
    "              \"ocupinf\": \"inform\",\n",
    "              \"p209\": \"est_civil\",\n",
    "              \"p512a\": \"tamaño_empr\",\n",
    "              \"p513t\": \"horas_trab\", #Total en todos los trabajos: p520\n",
    "              \"p514\": \"trab_secund\",\n",
    "              \"p524a1\": \"ing\"}\n",
    "\n",
    "var_sumaria = {} #NSE\n",
    "\n",
    "var_educa = {} #Años de educación, lengua materna\n",
    "\n",
    "var_empleo_keys = list(var_empleo.keys())\n",
    "var_empleo_name = list(var_empleo.values())"
   ]
  },
  {
   "cell_type": "markdown",
   "id": "44d1f383-8c11-4ca8-ad08-b1bd0170fc94",
   "metadata": {},
   "source": [
    "Se descomprime los zips, y se procede a convertirlo en un DataFrame llamado `dta`"
   ]
  },
  {
   "cell_type": "code",
   "execution_count": 4,
   "id": "48e07e9c-b970-47bc-965d-d5884c3f0048",
   "metadata": {},
   "outputs": [],
   "source": [
    "with ZipFile(\"./data/687-Modulo05.zip\") as z:\n",
    "    with z.open(\"687-Modulo05/enaho01a-2019-500.dta\") as file:\n",
    "        dta = pd.read_stata(file, columns = var_empleo_keys)\n",
    "\n",
    "dta.rename(var_empleo, axis = 1, inplace = True)"
   ]
  },
  {
   "cell_type": "code",
   "execution_count": 5,
   "id": "b4210098-26c1-417f-bca8-2b20b28094d6",
   "metadata": {},
   "outputs": [
    {
     "data": {
      "text/html": [
       "<div>\n",
       "<style scoped>\n",
       "    .dataframe tbody tr th:only-of-type {\n",
       "        vertical-align: middle;\n",
       "    }\n",
       "\n",
       "    .dataframe tbody tr th {\n",
       "        vertical-align: top;\n",
       "    }\n",
       "\n",
       "    .dataframe thead th {\n",
       "        text-align: right;\n",
       "    }\n",
       "</style>\n",
       "<table border=\"1\" class=\"dataframe\">\n",
       "  <thead>\n",
       "    <tr style=\"text-align: right;\">\n",
       "      <th></th>\n",
       "      <th>ubigeo</th>\n",
       "      <th>conglome</th>\n",
       "      <th>vivienda</th>\n",
       "      <th>hogar</th>\n",
       "      <th>codperso</th>\n",
       "      <th>empleado</th>\n",
       "      <th>sexo</th>\n",
       "      <th>edad</th>\n",
       "      <th>pea_ocup</th>\n",
       "      <th>inform</th>\n",
       "      <th>est_civil</th>\n",
       "      <th>tamaño_empr</th>\n",
       "      <th>horas_trab</th>\n",
       "      <th>trab_secund</th>\n",
       "      <th>ing</th>\n",
       "    </tr>\n",
       "  </thead>\n",
       "  <tbody>\n",
       "    <tr>\n",
       "      <th>0</th>\n",
       "      <td>010101</td>\n",
       "      <td>005001</td>\n",
       "      <td>007</td>\n",
       "      <td>11</td>\n",
       "      <td>01</td>\n",
       "      <td>si</td>\n",
       "      <td>mujer</td>\n",
       "      <td>50</td>\n",
       "      <td>ocupado</td>\n",
       "      <td>empleo informal</td>\n",
       "      <td>separado(a)</td>\n",
       "      <td>hasta 20 personas</td>\n",
       "      <td>15.0</td>\n",
       "      <td>si</td>\n",
       "      <td>NaN</td>\n",
       "    </tr>\n",
       "    <tr>\n",
       "      <th>1</th>\n",
       "      <td>010101</td>\n",
       "      <td>005001</td>\n",
       "      <td>007</td>\n",
       "      <td>11</td>\n",
       "      <td>02</td>\n",
       "      <td>no</td>\n",
       "      <td>hombre</td>\n",
       "      <td>23</td>\n",
       "      <td>no pea</td>\n",
       "      <td>NaN</td>\n",
       "      <td>soltero(a)</td>\n",
       "      <td>NaN</td>\n",
       "      <td>NaN</td>\n",
       "      <td>NaN</td>\n",
       "      <td>NaN</td>\n",
       "    </tr>\n",
       "    <tr>\n",
       "      <th>2</th>\n",
       "      <td>010101</td>\n",
       "      <td>005001</td>\n",
       "      <td>007</td>\n",
       "      <td>11</td>\n",
       "      <td>03</td>\n",
       "      <td>si</td>\n",
       "      <td>mujer</td>\n",
       "      <td>27</td>\n",
       "      <td>ocupado</td>\n",
       "      <td>empleo formal</td>\n",
       "      <td>separado(a)</td>\n",
       "      <td>de 21 a 50 personas</td>\n",
       "      <td>84.0</td>\n",
       "      <td>no</td>\n",
       "      <td>900.0</td>\n",
       "    </tr>\n",
       "    <tr>\n",
       "      <th>3</th>\n",
       "      <td>010101</td>\n",
       "      <td>005001</td>\n",
       "      <td>017</td>\n",
       "      <td>11</td>\n",
       "      <td>01</td>\n",
       "      <td>no</td>\n",
       "      <td>mujer</td>\n",
       "      <td>65</td>\n",
       "      <td>no pea</td>\n",
       "      <td>NaN</td>\n",
       "      <td>separado(a)</td>\n",
       "      <td>NaN</td>\n",
       "      <td>NaN</td>\n",
       "      <td>NaN</td>\n",
       "      <td>NaN</td>\n",
       "    </tr>\n",
       "    <tr>\n",
       "      <th>4</th>\n",
       "      <td>010101</td>\n",
       "      <td>005001</td>\n",
       "      <td>017</td>\n",
       "      <td>11</td>\n",
       "      <td>02</td>\n",
       "      <td>si</td>\n",
       "      <td>mujer</td>\n",
       "      <td>34</td>\n",
       "      <td>ocupado</td>\n",
       "      <td>empleo informal</td>\n",
       "      <td>separado(a)</td>\n",
       "      <td>hasta 20 personas</td>\n",
       "      <td>72.0</td>\n",
       "      <td>no</td>\n",
       "      <td>600.0</td>\n",
       "    </tr>\n",
       "  </tbody>\n",
       "</table>\n",
       "</div>"
      ],
      "text/plain": [
       "   ubigeo conglome vivienda hogar codperso empleado    sexo  edad pea_ocup  \\\n",
       "0  010101   005001      007    11       01       si   mujer    50  ocupado   \n",
       "1  010101   005001      007    11       02       no  hombre    23   no pea   \n",
       "2  010101   005001      007    11       03       si   mujer    27  ocupado   \n",
       "3  010101   005001      017    11       01       no   mujer    65   no pea   \n",
       "4  010101   005001      017    11       02       si   mujer    34  ocupado   \n",
       "\n",
       "            inform    est_civil          tamaño_empr  horas_trab trab_secund  \\\n",
       "0  empleo informal  separado(a)    hasta 20 personas        15.0          si   \n",
       "1              NaN   soltero(a)                  NaN         NaN         NaN   \n",
       "2    empleo formal  separado(a)  de 21 a 50 personas        84.0          no   \n",
       "3              NaN  separado(a)                  NaN         NaN         NaN   \n",
       "4  empleo informal  separado(a)    hasta 20 personas        72.0          no   \n",
       "\n",
       "     ing  \n",
       "0    NaN  \n",
       "1    NaN  \n",
       "2  900.0  \n",
       "3    NaN  \n",
       "4  600.0  "
      ]
     },
     "execution_count": 5,
     "metadata": {},
     "output_type": "execute_result"
    }
   ],
   "source": [
    "dta.head()"
   ]
  },
  {
   "cell_type": "markdown",
   "id": "b8a93ca7-8605-455a-aaed-6244350e2f7e",
   "metadata": {},
   "source": [
    "### Data Wrangling\n",
    "\n",
    "1. Limpieza\n",
    "\n",
    "    1.1 Merge entre bases\n",
    "    \n",
    "    1.2 Creación/Corrección de variables: bins\n",
    "    \n",
    "    1.3 Arreglar missing values\n",
    "    \n",
    "    1.4 Arreglar distribución de los ingresos\n",
    "    \n",
    "    1.5 Etc.\n",
    "    "
   ]
  },
  {
   "cell_type": "code",
   "execution_count": 6,
   "id": "0f59552c-6e7f-47e1-a927-a7c65d7a03e7",
   "metadata": {},
   "outputs": [
    {
     "data": {
      "text/plain": [
       "['ocupado', 'no pea', 'desocupado oculto', 'desocupado abierto', 0]\n",
       "Categories (5, object): [0 < 'ocupado' < 'desocupado abierto' < 'desocupado oculto' < 'no pea']"
      ]
     },
     "execution_count": 6,
     "metadata": {},
     "output_type": "execute_result"
    }
   ],
   "source": [
    "dta[\"pea_ocup\"].unique()"
   ]
  },
  {
   "cell_type": "code",
   "execution_count": 7,
   "id": "8e7cb4d0-3c5a-41bf-9703-cb8c70f3881b",
   "metadata": {},
   "outputs": [
    {
     "data": {
      "image/png": "[encoded data removed]",
      "text/plain": [
       "<Figure size 432x288 with 1 Axes>"
      ]
     },
     "metadata": {
      "needs_background": "light"
     },
     "output_type": "display_data"
    }
   ],
   "source": [
    "dta[\"ing\"].plot(kind = \"hist\", bins = 50) #Necesario sacar logaritmo\n",
    "plt.show()"
   ]
  },
  {
   "cell_type": "code",
   "execution_count": 8,
   "id": "07fd8781-485a-48f4-bb09-d980511d3092",
   "metadata": {},
   "outputs": [],
   "source": [
    "dta[\"ln_ing\"] = np.log(dta[\"ing\"])"
   ]
  },
  {
   "cell_type": "code",
   "execution_count": 9,
   "id": "4408dcd0-b31a-459c-81fa-00eb1cf5c35a",
   "metadata": {},
   "outputs": [
    {
     "data": {
      "image/png": "[encoded data removed]",
      "text/plain": [
       "<Figure size 432x288 with 1 Axes>"
      ]
     },
     "metadata": {
      "needs_background": "light"
     },
     "output_type": "display_data"
    }
   ],
   "source": [
    "dta[\"ln_ing\"].plot(kind = \"hist\", bins = 50)\n",
    "plt.show()"
   ]
  },
  {
   "cell_type": "code",
   "execution_count": null,
   "id": "051214ac-5b93-4b9a-b446-0b9f3b2fa326",
   "metadata": {},
   "outputs": [],
   "source": []
  },
  {
   "cell_type": "code",
   "execution_count": null,
   "id": "4284541d-6541-4d5a-95b7-cf7e1a0d9226",
   "metadata": {},
   "outputs": [],
   "source": []
  },
  {
   "cell_type": "code",
   "execution_count": null,
   "id": "a11bc854-6551-4901-8127-e027608e2ee1",
   "metadata": {},
   "outputs": [],
   "source": []
  },
  {
   "cell_type": "code",
   "execution_count": null,
   "id": "04a72d37-c5c5-4abb-9405-1f6a845e87fc",
   "metadata": {},
   "outputs": [],
   "source": []
  },
  {
   "cell_type": "markdown",
   "id": "1e5a419f-1b23-47c7-8cb8-42b3541f365e",
   "metadata": {
    "tags": []
   },
   "source": [
    "### Data Visualization\n",
    "\n",
    "2. Exploración de datos\n",
    "\n",
    "    2.1 Scatter plot para analizar las relaciones lineales (subplots y con linea de tendencia) (relaciones no lineales?)\n",
    "    \n",
    "    2.2 Ver distribuciones con un histograma o con box plot\n",
    "    \n",
    "    2.3 Arreglar normalidad?\n",
    "    \n",
    "    2.4 Multicolinealidad: correlogramas para analizar"
   ]
  },
  {
   "cell_type": "code",
   "execution_count": 10,
   "id": "885dfe11-cbc0-4464-b40a-09a68f29c621",
   "metadata": {},
   "outputs": [
    {
     "data": {
      "image/png": "[encoded data removed]",
      "text/plain": [
       "<Figure size 576x432 with 1 Axes>"
      ]
     },
     "metadata": {
      "needs_background": "light"
     },
     "output_type": "display_data"
    }
   ],
   "source": [
    "plt.figure(figsize=(8,6))\n",
    "\n",
    "sns.boxplot(x=\"sexo\", y=\"ln_ing\", data=dta)\n",
    "plt.show()"
   ]
  },
  {
   "cell_type": "code",
   "execution_count": 11,
   "id": "b482d8ae-009e-4d39-a774-268797c30a0a",
   "metadata": {},
   "outputs": [
    {
     "data": {
      "image/png": "[encoded data removed]",
      "text/plain": [
       "<Figure size 576x432 with 1 Axes>"
      ]
     },
     "metadata": {
      "needs_background": "light"
     },
     "output_type": "display_data"
    }
   ],
   "source": [
    "plt.figure(figsize=(8,6))\n",
    "\n",
    "sns.boxplot(x=\"est_civil\", y=\"ln_ing\", data=dta)\n",
    "plt.show()"
   ]
  },
  {
   "cell_type": "code",
   "execution_count": 12,
   "id": "5201845c-5e86-43c2-971c-0287959166d1",
   "metadata": {},
   "outputs": [
    {
     "data": {
      "image/png": "[encoded data removed]",
      "text/plain": [
       "<Figure size 576x432 with 1 Axes>"
      ]
     },
     "metadata": {
      "needs_background": "light"
     },
     "output_type": "display_data"
    }
   ],
   "source": [
    "plt.figure(figsize=(8,6))\n",
    "\n",
    "sns.boxplot(x=\"inform\", y=\"ln_ing\", data=dta)\n",
    "plt.show()"
   ]
  },
  {
   "cell_type": "code",
   "execution_count": 13,
   "id": "b5223aba-43fc-4fa9-8e9a-3473f9612fc4",
   "metadata": {},
   "outputs": [
    {
     "data": {
      "image/png": "[encoded data removed]",
      "text/plain": [
       "<Figure size 576x432 with 1 Axes>"
      ]
     },
     "metadata": {
      "needs_background": "light"
     },
     "output_type": "display_data"
    }
   ],
   "source": [
    "plt.figure(figsize=(8,6))\n",
    "\n",
    "sns.boxplot(x=\"ln_ing\", y=\"tamaño_empr\", data=dta, orient=\"h\")\n",
    "plt.show()"
   ]
  },
  {
   "cell_type": "code",
   "execution_count": 14,
   "id": "7cc0b2dd-071a-45e4-b1cd-2582970dcc70",
   "metadata": {},
   "outputs": [
    {
     "data": {
      "image/png": "[encoded data removed]",
      "text/plain": [
       "<Figure size 576x432 with 1 Axes>"
      ]
     },
     "metadata": {
      "needs_background": "light"
     },
     "output_type": "display_data"
    }
   ],
   "source": [
    "plt.figure(figsize=(8,6))\n",
    "\n",
    "sns.boxplot(x=\"trab_secund\", y=\"ln_ing\", data=dta)\n",
    "plt.show()"
   ]
  },
  {
   "cell_type": "code",
   "execution_count": null,
   "id": "3857cd34-b015-45c3-afe4-7097e94df7f8",
   "metadata": {},
   "outputs": [],
   "source": []
  },
  {
   "cell_type": "markdown",
   "id": "9dcc9eff-e15e-405e-a243-e30b2b0b570c",
   "metadata": {},
   "source": [
    "### Modelling I\n",
    "\n",
    "3. Regresión múltiple preliminar\n",
    "\n"
   ]
  },
  {
   "cell_type": "code",
   "execution_count": null,
   "id": "4cba995e-b665-4d7f-9f22-a78c1f85e21f",
   "metadata": {},
   "outputs": [],
   "source": []
  },
  {
   "cell_type": "code",
   "execution_count": null,
   "id": "15f8d170-2ed5-499b-9816-c6c326ab0b6c",
   "metadata": {},
   "outputs": [],
   "source": []
  },
  {
   "cell_type": "markdown",
   "id": "b77cc276-56ec-44aa-9a9d-dc0206e6bc7a",
   "metadata": {},
   "source": [
    "### Model Evaluation\n",
    "\n",
    "4. Evaluación del modelo con la data de testeo (20%)\n",
    "\n",
    "    4.1 R cuadrado\n",
    "    \n",
    "    4.2 Distribución de la testeo vs real\n"
   ]
  },
  {
   "cell_type": "code",
   "execution_count": null,
   "id": "7db60e0e-cebc-4ce4-8843-178dbc0f2ce4",
   "metadata": {},
   "outputs": [],
   "source": []
  },
  {
   "cell_type": "markdown",
   "id": "f126e207-a4a7-4f01-aa6d-16fb5e266da0",
   "metadata": {},
   "source": [
    "### Modeling II\n",
    "\n",
    "5. Necesidad te una regresión polinómica? Linealizar las variables para seguir usando OLS"
   ]
  },
  {
   "cell_type": "code",
   "execution_count": null,
   "id": "ba3c6217-157f-41b4-8d4d-afb2bdc5c4f4",
   "metadata": {},
   "outputs": [],
   "source": []
  },
  {
   "cell_type": "code",
   "execution_count": null,
   "id": "d980c4de-2f3c-4fc2-b770-fbfbbd126b58",
   "metadata": {},
   "outputs": [],
   "source": []
  }
 ],
 "metadata": {
  "kernelspec": {
   "display_name": "Python 3 (ipykernel)",
   "language": "python",
   "name": "python3"
  },
  "language_info": {
   "codemirror_mode": {
    "name": "ipython",
    "version": 3
   },
   "file_extension": ".py",
   "mimetype": "text/x-python",
   "name": "python",
   "nbconvert_exporter": "python",
   "pygments_lexer": "ipython3",
   "version": "3.9.7"
  }
 },
 "nbformat": 4,
 "nbformat_minor": 5
}
